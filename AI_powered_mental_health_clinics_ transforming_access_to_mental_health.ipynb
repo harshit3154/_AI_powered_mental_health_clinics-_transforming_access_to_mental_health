{
 "cells": [
  {
   "cell_type": "code",
   "execution_count": 44,
   "id": "65088173-270f-4e98-94df-00953011fff9",
   "metadata": {},
   "outputs": [
    {
     "name": "stdout",
     "output_type": "stream",
     "text": [
      "Welcome to the training of the pyschological analysis data\n"
     ]
    }
   ],
   "source": [
    "print('Welcome to the training of the pyschological analysis data')"
   ]
  },
  {
   "cell_type": "code",
   "execution_count": 72,
   "id": "00652100-6f47-4c98-8a9a-d203dcaac50f",
   "metadata": {},
   "outputs": [
    {
     "name": "stderr",
     "output_type": "stream",
     "text": [
      "[nltk_data] Downloading package stopwords to\n",
      "[nltk_data]     C:\\Users\\harsh\\AppData\\Roaming\\nltk_data...\n",
      "[nltk_data]   Package stopwords is already up-to-date!\n"
     ]
    },
    {
     "data": {
      "text/plain": [
       "True"
      ]
     },
     "execution_count": 72,
     "metadata": {},
     "output_type": "execute_result"
    }
   ],
   "source": [
    "import pandas as pd\n",
    "import string\n",
    "import nltk\n",
    "from nltk.corpus import stopwords\n",
    "#https://www.kaggle.com/datasets/suchintikasarkar/sentiment-analysis-for-mental-health\n",
    "# Download necessary NLTK data\n",
    "nltk.download('stopwords')"
   ]
  },
  {
   "cell_type": "code",
   "execution_count": 73,
   "id": "3e459f9e-a3e9-4687-9a10-53cbbaede79e",
   "metadata": {},
   "outputs": [],
   "source": [
    "# Load CSV file\n",
    "df = pd.read_csv(r'C:\\Users\\harsh\\Downloads\\data\\Combined Data.csv', \n",
    "                 header=None, names=['SNo', 'Problem', 'Result'])\n",
    "\n",
    "# Drop the first row if it contains headers\n",
    "df = df.drop(0)\n",
    "\n",
    "# Convert column data to string and handle missing values\n",
    "df['Problem'] = df['Problem'].fillna('').astype(str)\n",
    "df['Result'] = df['Result'].fillna('').astype(str)"
   ]
  },
  {
   "cell_type": "code",
   "execution_count": 74,
   "id": "2cbc54ec-5fb9-4101-a7a5-5bfca02d9427",
   "metadata": {},
   "outputs": [
    {
     "name": "stdout",
     "output_type": "stream",
     "text": [
      "1        Anxiety\n",
      "2        Anxiety\n",
      "3        Anxiety\n",
      "4        Anxiety\n",
      "5        Anxiety\n",
      "          ...   \n",
      "53039    Anxiety\n",
      "53040    Anxiety\n",
      "53041    Anxiety\n",
      "53042    Anxiety\n",
      "53043    Anxiety\n",
      "Name: Result, Length: 53043, dtype: object\n"
     ]
    }
   ],
   "source": [
    "print(df['Result'])"
   ]
  },
  {
   "cell_type": "code",
   "execution_count": 6,
   "id": "1ec76172-d379-49d6-86ea-ecab67779f4f",
   "metadata": {},
   "outputs": [
    {
     "name": "stdout",
     "output_type": "stream",
     "text": [
      "   SNo                                            Problem   Result\n",
      "1  0.0                                         oh my gosh  Anxiety\n",
      "2  1.0  trouble sleeping, confused mind, restless hear...  Anxiety\n",
      "3  2.0  All wrong, back off dear, forward doubt. Stay ...  Anxiety\n",
      "4  3.0  I've shifted my focus to something else but I'...  Anxiety\n",
      "5  4.0  I'm restless and restless, it's been a month n...  Anxiety\n"
     ]
    }
   ],
   "source": [
    "print(df.head())"
   ]
  },
  {
   "cell_type": "code",
   "execution_count": 75,
   "id": "b87708e2-2744-47d0-b5e9-26ff66b45613",
   "metadata": {},
   "outputs": [],
   "source": [
    "# Define the normalization function\n",
    "def normalizeString(data):\n",
    "    if not isinstance(data, str):  \n",
    "        data = str(data)  # Convert non-string values to string\n",
    "    \n",
    "    data = data.translate(str.maketrans('', '', string.punctuation))  # Remove punctuation\n",
    "    data = data.lower()  # Convert to lowercase\n",
    "    stop_words = set(stopwords.words('english'))  # Get English stopwords\n",
    "    data = ' '.join(word for word in data.split() if word not in stop_words)  # Remove stopwords\n",
    "    return data\n",
    "\n",
    "# Apply normalization\n",
    "df['Problem'] = df['Problem'].apply(normalizeString)\n",
    "df['Result'] = df['Result'].apply(normalizeString)"
   ]
  },
  {
   "cell_type": "code",
   "execution_count": 20,
   "id": "5d9d7f12-66cc-4a20-8f15-66bf247de8d8",
   "metadata": {},
   "outputs": [
    {
     "name": "stdout",
     "output_type": "stream",
     "text": [
      "   SNo                                            Problem   Result\n",
      "1  0.0                                            oh gosh  anxiety\n",
      "2  1.0  trouble sleeping confused mind restless heart ...  anxiety\n",
      "3  2.0  wrong back dear forward doubt stay restless re...  anxiety\n",
      "4  3.0  ive shifted focus something else im still worried  anxiety\n",
      "5  4.0                im restless restless month boy mean  anxiety\n"
     ]
    }
   ],
   "source": [
    "print(df.head())"
   ]
  },
  {
   "cell_type": "code",
   "execution_count": 21,
   "id": "9342353c-6f69-4bf3-82d0-d845d08bb5c8",
   "metadata": {},
   "outputs": [
    {
     "name": "stdout",
     "output_type": "stream",
     "text": [
      "(53043, 3)\n"
     ]
    }
   ],
   "source": [
    "print(df.shape)"
   ]
  },
  {
   "cell_type": "code",
   "execution_count": 13,
   "id": "993fdc4a-d1f5-4b5e-b249-6d716a88798a",
   "metadata": {},
   "outputs": [],
   "source": [
    "from sklearn.feature_extraction.text import TfidfVectorizer"
   ]
  },
  {
   "cell_type": "code",
   "execution_count": 17,
   "id": "e88a0858-8df0-4d6e-afac-5416d668d614",
   "metadata": {},
   "outputs": [],
   "source": [
    "tfidf_vectorizer = TfidfVectorizer()\n",
    "X=tfidf_vectorizer.fit_transform( df['Problem'])"
   ]
  },
  {
   "cell_type": "code",
   "execution_count": 30,
   "id": "f5e916a7-2234-4e9c-8465-235796ec6342",
   "metadata": {},
   "outputs": [],
   "source": [
    "Y=df['Result']"
   ]
  },
  {
   "cell_type": "code",
   "execution_count": 11,
   "id": "c7256b63-749d-406c-b731-8f35252df059",
   "metadata": {},
   "outputs": [],
   "source": [
    "from sklearn.model_selection import train_test_split"
   ]
  },
  {
   "cell_type": "code",
   "execution_count": 37,
   "id": "fea8d343-af55-4f18-8009-72a9e6bb6d3d",
   "metadata": {},
   "outputs": [],
   "source": [
    "x_train,x_test,y_train,y_test = train_test_split(X,Y,test_size=0.7,random_state=42)"
   ]
  },
  {
   "cell_type": "code",
   "execution_count": 38,
   "id": "ff26dfed-efa3-4080-aaf2-6e515faf2ad2",
   "metadata": {},
   "outputs": [],
   "source": [
    "from sklearn.linear_model import LogisticRegression\n",
    "from sklearn.metrics import accuracy_score,classification_report,confusion_matrix"
   ]
  },
  {
   "cell_type": "code",
   "execution_count": 54,
   "id": "1c1d3e29-27e5-467a-ba98-05752ee4a468",
   "metadata": {},
   "outputs": [
    {
     "name": "stdout",
     "output_type": "stream",
     "text": [
      "Accuracy: 0.7271013438905497\n",
      "Classification_report                       precision    recall  f1-score   support\n",
      "\n",
      "             anxiety       0.81      0.68      0.74      2727\n",
      "             bipolar       0.87      0.59      0.71      2011\n",
      "          depression       0.67      0.73      0.70     10768\n",
      "              normal       0.77      0.96      0.85     11476\n",
      "personality disorder       0.97      0.23      0.37       849\n",
      "              stress       0.73      0.30      0.42      1869\n",
      "            suicidal       0.67      0.59      0.63      7431\n",
      "\n",
      "            accuracy                           0.73     37131\n",
      "           macro avg       0.78      0.58      0.63     37131\n",
      "        weighted avg       0.73      0.73      0.71     37131\n",
      "\n",
      "Confusion_matrix [[ 1854    25   286   501     0    38    23]\n",
      " [   71  1192   369   295     2    35    47]\n",
      " [  115    67  7827   895     1    46  1817]\n",
      " [   36    10   246 11001     2    37   144]\n",
      " [   31    33   311   220   192    40    22]\n",
      " [  173    36   392   629     1   558    80]\n",
      " [    4     5  2264   776     0     8  4374]]\n"
     ]
    }
   ],
   "source": [
    "model=LogisticRegression()\n",
    "model.fit(x_train,y_train)\n",
    "y_pred=model.predict(x_test)\n",
    "accuracylr=accuracy_score(y_test,y_pred)\n",
    "classification_reportlr=classification_report(y_test, y_pred)\n",
    "confusion_matrixlr=confusion_matrix(y_test, y_pred)\n",
    "print('Accuracy:',accuracylr)\n",
    "print('Classification_report',classification_reportlr)\n",
    "print('Confusion_matrix',confusion_matrixlr)"
   ]
  },
  {
   "cell_type": "code",
   "execution_count": 43,
   "id": "32b24de4-35cd-4f7d-91e1-f28627328e19",
   "metadata": {},
   "outputs": [
    {
     "name": "stdout",
     "output_type": "stream",
     "text": [
      "Accuracy: 0.6216099754921763\n",
      "Classification_report                       precision    recall  f1-score   support\n",
      "\n",
      "             anxiety       0.91      0.35      0.50      2727\n",
      "             bipolar       0.97      0.16      0.27      2011\n",
      "          depression       0.51      0.81      0.63     10768\n",
      "              normal       0.74      0.90      0.81     11476\n",
      "personality disorder       0.15      0.19      0.17       849\n",
      "              stress       0.99      0.09      0.17      1869\n",
      "            suicidal       0.69      0.33      0.44      7431\n",
      "\n",
      "            accuracy                           0.62     37131\n",
      "           macro avg       0.71      0.40      0.43     37131\n",
      "        weighted avg       0.69      0.62      0.59     37131\n",
      "\n",
      "Confusion_matrix [[  949     4  1165   540    39     0    30]\n",
      " [   26   312  1290   269    79     0    35]\n",
      " [   16     3  8741  1084    12     1   911]\n",
      " [   15     2   385 10319   703     0    52]\n",
      " [    1     1   553   117   163     0    14]\n",
      " [   40     0  1046   497    57   175    54]\n",
      " [    1     1  3859  1137    11     0  2422]]\n"
     ]
    }
   ],
   "source": [
    "#Random forest Model\n",
    "from sklearn.ensemble import RandomForestClassifier\n",
    "model=RandomForestClassifier(n_estimators=100,random_state=42)\n",
    "model.fit(x_train,y_train)\n",
    "y_pred=model.predict(x_test)\n",
    "accuracy_scorerfm=accuracy_score(y_test, y_pred)\n",
    "classification_reportrfm=classification_report(y_test, y_pred)\n",
    "confusion_matrixrfm=confusion_matrix(y_test, y_pred)\n",
    "print('Accuracy:',accuracy_scorerfm)\n",
    "print('Classification_report',classification_reportrfm)\n",
    "print('Confusion_matrix',confusion_matrixrfm)"
   ]
  },
  {
   "cell_type": "code",
   "execution_count": 49,
   "id": "cd84e34b-8a38-4287-98f0-21b6f77c03b0",
   "metadata": {},
   "outputs": [
    {
     "name": "stdout",
     "output_type": "stream",
     "text": [
      "Accuracy: 0.5445584551991597\n",
      "Classification Report:\n",
      "                       precision    recall  f1-score   support\n",
      "\n",
      "             anxiety       0.97      0.10      0.18      2727\n",
      "             bipolar       0.97      0.01      0.03      2011\n",
      "          depression       0.39      0.99      0.56     10768\n",
      "              normal       0.94      0.69      0.80     11476\n",
      "personality disorder       0.00      0.00      0.00       849\n",
      "              stress       1.00      0.01      0.02      1869\n",
      "            suicidal       0.93      0.18      0.30      7431\n",
      "\n",
      "            accuracy                           0.54     37131\n",
      "           macro avg       0.74      0.28      0.27     37131\n",
      "        weighted avg       0.77      0.54      0.49     37131\n",
      "\n",
      "Confusion Matrix:\n",
      " [[  269     0  2319   138     0     0     1]\n",
      " [    0    28  1895    88     0     0     0]\n",
      " [    1     1 10653    46     0     0    67]\n",
      " [    3     0  3504  7937     0     0    32]\n",
      " [    2     0   759    88     0     0     0]\n",
      " [    2     0  1775    73     0    18     1]\n",
      " [    1     0  6066    49     0     0  1315]]\n"
     ]
    }
   ],
   "source": [
    "#Naiv Bays Model\n",
    "from sklearn.naive_bayes import MultinomialNB\n",
    "model=MultinomialNB()\n",
    "model.fit(x_test,y_test)\n",
    "y_pred=model.predict(x_test)\n",
    "accuracy_scorenbm=accuracy_score(y_test, y_pred)\n",
    "classification_reportnbm=classification_report(y_test, y_pred,zero_division=0)\n",
    "confusion_matrixnbm=confusion_matrix(y_test, y_pred)\n",
    "print('Accuracy:',accuracy_scorenbm )\n",
    "print('Classification Report:\\n', classification_reportnbm)\n",
    "print('Confusion Matrix:\\n',confusion_matrixnbm )"
   ]
  },
  {
   "cell_type": "code",
   "execution_count": 52,
   "id": "d34442f8-93ac-43c1-8b0a-7eed57663b17",
   "metadata": {},
   "outputs": [
    {
     "name": "stdout",
     "output_type": "stream",
     "text": [
      "accuracy 0.7410250195254638\n",
      "classifiction                       precision    recall  f1-score   support\n",
      "\n",
      "             anxiety       0.79      0.75      0.77      2727\n",
      "             bipolar       0.84      0.65      0.74      2011\n",
      "          depression       0.67      0.73      0.70     10768\n",
      "              normal       0.82      0.95      0.88     11476\n",
      "personality disorder       0.95      0.31      0.46       849\n",
      "              stress       0.66      0.38      0.48      1869\n",
      "            suicidal       0.67      0.61      0.64      7431\n",
      "\n",
      "            accuracy                           0.74     37131\n",
      "           macro avg       0.77      0.62      0.67     37131\n",
      "        weighted avg       0.74      0.74      0.73     37131\n",
      "\n",
      "confusion [[ 2053    42   251   302     2    64    13]\n",
      " [   78  1308   322   198     1    67    37]\n",
      " [  165    99  7811   651     6    82  1954]\n",
      " [   56    16   291 10867     0    85   161]\n",
      " [   34    29   286   180   260    50    10]\n",
      " [  204    42   378   482     6   709    48]\n",
      " [   11    12  2301   587     0    13  4507]]\n"
     ]
    }
   ],
   "source": [
    "#support vector machine\n",
    "from sklearn.svm import SVC\n",
    "model=SVC(kernel='linear',random_state=42)\n",
    "model.fit(x_train,y_train)\n",
    "y_pred=model.predict(x_test)\n",
    "print('accuracy',accuracy_score(y_test,y_pred))\n",
    "print('classifiction',classification_report(y_test,y_pred))\n",
    "print('confusion',confusion_matrix(y_test,y_pred))"
   ]
  },
  {
   "cell_type": "code",
   "execution_count": 86,
   "id": "9efd5b94-85db-4926-927e-389ddf713159",
   "metadata": {},
   "outputs": [],
   "source": [
    "from matplotlib import pyplot as plt"
   ]
  },
  {
   "cell_type": "code",
   "execution_count": 85,
   "id": "0abdcbc3-5cac-406a-94ae-17ab078d6a0c",
   "metadata": {},
   "outputs": [
    {
     "name": "stdout",
     "output_type": "stream",
     "text": [
      "{'model': ['LR', 'RFC', 'NB', 'SVC'], 'result': [75, 69, 51, 77]}\n",
      "  model  result\n",
      "0    LR      75\n",
      "1   RFC      69\n",
      "2    NB      51\n",
      "3   SVC      77\n"
     ]
    },
    {
     "data": {
      "image/png": "[encoded data removed]",
      "text/plain": [
       "<Figure size 640x480 with 1 Axes>"
      ]
     },
     "metadata": {},
     "output_type": "display_data"
    }
   ],
   "source": [
    "import pandas as pd\n",
    "import matplotlib.pyplot as plt\n",
    "\n",
    "# Create the dictionary and DataFrame\n",
    "d = {'model': ['LR', 'RFC', 'NB', 'SVC'],\n",
    "     'result': [75, 69, 51, 77]}\n",
    "print(d)\n",
    "\n",
    "pf = pd.DataFrame(d)\n",
    "print(pf)  # Display the DataFrame\n",
    "\n",
    "# Plotting the bar graph\n",
    "plt.bar(pf['model'], pf['result'], color='skyblue')\n",
    "plt.xlabel('Model')\n",
    "plt.ylabel('Accuracy (%)')\n",
    "plt.title('Model Comparison')\n",
    "plt.ylim(0, 100)  # Optional: set y-axis from 0 to 100\n",
    "plt.show()\n"
   ]
  },
  {
   "cell_type": "code",
   "execution_count": 87,
   "id": "43d2f9c0-4e66-43dc-88f1-edc8c09bc7d5",
   "metadata": {},
   "outputs": [
    {
     "data": {
      "text/plain": [
       "[<matplotlib.lines.Line2D at 0x5f2a6ea0>]"
      ]
     },
     "execution_count": 87,
     "metadata": {},
     "output_type": "execute_result"
    },
    {
     "data": {
      "image/png": "[encoded data removed]",
      "text/plain": [
       "<Figure size 640x480 with 1 Axes>"
      ]
     },
     "metadata": {},
     "output_type": "display_data"
    }
   ],
   "source": [
    "plt.plot(pf['model'],pf['result'])"
   ]
  },
  {
   "cell_type": "code",
   "execution_count": null,
   "id": "9fdaf3d1-9c37-4208-a0be-ff2dfe9d432b",
   "metadata": {},
   "outputs": [],
   "source": []
  }
 ],
 "metadata": {
  "kernelspec": {
   "display_name": "Python 3 (ipykernel)",
   "language": "python",
   "name": "python3"
  },
  "language_info": {
   "codemirror_mode": {
    "name": "ipython",
    "version": 3
   },
   "file_extension": ".py",
   "mimetype": "text/x-python",
   "name": "python",
   "nbconvert_exporter": "python",
   "pygments_lexer": "ipython3",
   "version": "3.12.2"
  }
 },
 "nbformat": 4,
 "nbformat_minor": 5
}
