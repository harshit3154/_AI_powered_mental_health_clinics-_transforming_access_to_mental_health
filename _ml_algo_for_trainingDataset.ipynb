{
 "cells": [
  {
   "cell_type": "code",
   "execution_count": 37,
   "id": "818433c4-ef52-4691-971e-b4b986450473",
   "metadata": {},
   "outputs": [
    {
     "name": "stderr",
     "output_type": "stream",
     "text": [
      "[nltk_data] Downloading package stopwords to\n",
      "[nltk_data]     C:\\Users\\harsh\\AppData\\Roaming\\nltk_data...\n",
      "[nltk_data]   Package stopwords is already up-to-date!\n"
     ]
    }
   ],
   "source": [
    "import pandas as pd\n",
    "import string\n",
    "import nltk\n",
    "from nltk.corpus import stopwords\n",
    "#https://www.kaggle.com/datasets/suchintikasarkar/sentiment-analysis-for-mental-health\n",
    "# Download necessary NLTK data\n",
    "nltk.download('stopwords')\n",
    "\n",
    "# Load CSV file\n",
    "pf = pd.read_csv(r'C:\\Downloads\\archive\\Combined Data.csv', \n",
    "                 header=None, names=['SNo', 'Problem', 'Result'])\n",
    "\n",
    "# Drop the first row if it contains headers\n",
    "pf = pf.drop(0)\n",
    "\n",
    "# Convert column data to string and handle missing values\n",
    "pf['Problem'] = pf['Problem'].fillna('').astype(str)\n",
    "pf['Result'] = pf['Result'].fillna('').astype(str)"
   ]
  },
  {
   "cell_type": "code",
   "execution_count": 39,
   "id": "22047c2a-a5ca-4a93-a209-9357291add6b",
   "metadata": {},
   "outputs": [
    {
     "name": "stdout",
     "output_type": "stream",
     "text": [
      "   SNo                                            Problem   Result\n",
      "1  0.0                                         oh my gosh  Anxiety\n",
      "2  1.0  trouble sleeping, confused mind, restless hear...  Anxiety\n",
      "3  2.0  All wrong, back off dear, forward doubt. Stay ...  Anxiety\n",
      "4  3.0  I've shifted my focus to something else but I'...  Anxiety\n",
      "5  4.0  I'm restless and restless, it's been a month n...  Anxiety\n"
     ]
    }
   ],
   "source": [
    "print(pf.head())"
   ]
  },
  {
   "cell_type": "code",
   "execution_count": null,
   "id": "e9f24f3e-ad12-4ff3-af0f-67f661311cfa",
   "metadata": {},
   "outputs": [
    {
     "name": "stderr",
     "output_type": "stream",
     "text": [
      "[nltk_data] Downloading package stopwords to\n",
      "[nltk_data]     C:\\Users\\harsh\\AppData\\Roaming\\nltk_data...\n",
      "[nltk_data]   Package stopwords is already up-to-date!\n"
     ]
    },
    {
     "name": "stdout",
     "output_type": "stream",
     "text": [
      "           SNo                                            Problem   Result\n",
      "1          0.0                                            oh gosh  anxiety\n",
      "2          1.0  trouble sleeping confused mind restless heart ...  anxiety\n",
      "3          2.0  wrong back dear forward doubt stay restless re...  anxiety\n",
      "4          3.0  ive shifted focus something else im still worried  anxiety\n",
      "5          4.0                im restless restless month boy mean  anxiety\n",
      "...        ...                                                ...      ...\n",
      "53039  53038.0  nobody takes seriously i’ve 24m dealt depressi...  anxiety\n",
      "53040  53039.0  selfishness dont feel good like dont belong wo...  anxiety\n",
      "53041  53040.0  way sleep better cant sleep nights meds didnt ...  anxiety\n",
      "53042  53041.0  public speaking tips hi give presentation work...  anxiety\n",
      "53043  53042.0  really bad door anxiety scared didnt lock door...  anxiety\n",
      "\n",
      "[53043 rows x 3 columns]\n",
      "Accuracy: 0.7583184088981054\n",
      "Classification Report:\n",
      "                       precision    recall  f1-score   support\n",
      "\n",
      "             anxiety       0.83      0.76      0.79       779\n",
      "             bipolar       0.87      0.68      0.76       580\n",
      "          depression       0.70      0.73      0.72      3100\n",
      "              normal       0.82      0.96      0.88      3327\n",
      "personality disorder       0.91      0.42      0.57       248\n",
      "              stress       0.73      0.43      0.54       557\n",
      "            suicidal       0.67      0.63      0.65      2018\n",
      "\n",
      "            accuracy                           0.76     10609\n",
      "           macro avg       0.79      0.66      0.70     10609\n",
      "        weighted avg       0.76      0.76      0.75     10609\n",
      "\n",
      "Confusion Matrix:\n",
      " [[ 593    9   61   93    3   16    4]\n",
      " [  15  395   75   74    0   13    8]\n",
      " [  37   28 2251  205    5   21  553]\n",
      " [  13    4   60 3200    1   24   25]\n",
      " [   2    7   62   63  103    6    5]\n",
      " [  53   10  103  133    1  237   20]\n",
      " [   3    2  583  158    0    6 1266]]\n"
     ]
    }
   ],
   "source": [
    "# Define the normalization function\n",
    "def normalizeString(data):\n",
    "    if not isinstance(data, str):  \n",
    "        data = str(data)  # Convert non-string values to string\n",
    "    \n",
    "    data = data.translate(str.maketrans('', '', string.punctuation))  # Remove punctuation\n",
    "    data = data.lower()  # Convert to lowercase\n",
    "    stop_words = set(stopwords.words('english'))  # Get English stopwords\n",
    "    data = ' '.join(word for word in data.split() if word not in stop_words)  # Remove stopwords\n",
    "    return data\n",
    "\n",
    "# Apply normalization\n",
    "pf['Problem'] = pf['Problem'].apply(normalizeString)\n",
    "pf['Result'] = pf['Result'].apply(normalizeString)\n",
    "\n",
    "# Display the cleaned DataFrame\n",
    "print(pf)\n",
    "\n",
    "\n",
    "kl.bj"
   ]
  },
  {
   "cell_type": "code",
   "execution_count": 36,
   "id": "56abe5a9-e434-477d-9d07-e6b202daefd8",
   "metadata": {},
   "outputs": [
    {
     "name": "stdout",
     "output_type": "stream",
     "text": [
      "   SNo                                            Problem   Result\n",
      "1  0.0                                            oh gosh  anxiety\n",
      "2  1.0  trouble sleeping confused mind restless heart ...  anxiety\n",
      "3  2.0  wrong back dear forward doubt stay restless re...  anxiety\n",
      "4  3.0  ive shifted focus something else im still worried  anxiety\n",
      "5  4.0                im restless restless month boy mean  anxiety\n"
     ]
    }
   ],
   "source": [
    "print(pf.head())"
   ]
  },
  {
   "cell_type": "code",
   "execution_count": 35,
   "id": "83243dbc-ab45-402c-972a-8e0ec1c909e6",
   "metadata": {},
   "outputs": [
    {
     "data": {
      "text/plain": [
       "str"
      ]
     },
     "execution_count": 35,
     "metadata": {},
     "output_type": "execute_result"
    }
   ],
   "source": [
    "type(classification_reportlr)"
   ]
  },
  {
   "cell_type": "code",
   "execution_count": 40,
   "id": "e7d18181-d95f-41c8-94c3-103ac400f707",
   "metadata": {},
   "outputs": [
    {
     "name": "stdout",
     "output_type": "stream",
     "text": [
      "Accuracy: 0.6955415213497973\n",
      "Classification_report                       precision    recall  f1-score   support\n",
      "\n",
      "             anxiety       0.91      0.52      0.66       779\n",
      "             bipolar       0.98      0.40      0.56       580\n",
      "          depression       0.56      0.81      0.66      3100\n",
      "              normal       0.79      0.96      0.87      3327\n",
      "personality disorder       1.00      0.29      0.45       248\n",
      "              stress       0.97      0.21      0.35       557\n",
      "            suicidal       0.69      0.41      0.52      2018\n",
      "\n",
      "            accuracy                           0.70     10609\n",
      "           macro avg       0.84      0.52      0.58     10609\n",
      "        weighted avg       0.74      0.70      0.67     10609\n",
      "\n",
      "Confusion_matrix [[ 407    2  245  119    0    0    6]\n",
      " [  10  230  244   88    0    0    8]\n",
      " [   9    3 2515  243    0    1  329]\n",
      " [   7    0  100 3203    0    2   15]\n",
      " [   0    0  121   54   71    1    1]\n",
      " [  14    0  279  122    0  119   23]\n",
      " [   0    0  960  224    0    0  834]]\n"
     ]
    }
   ],
   "source": [
    "#Random forest Model\n",
    "from sklearn.ensemble import RandomForestClassifier\n",
    "model=RandomForestClassifier(n_estimators=100,random_state=42)\n",
    "model.fit(x_train,y_train)\n",
    "y_pred=model.predict(x_test)\n",
    "accuracy_scorerfm=accuracy_score(y_test, y_pred)\n",
    "classification_reportrfm=classification_report(y_test, y_pred)\n",
    "confusion_matrixrfm=confusion_matrix(y_test, y_pred)\n",
    "print('Accuracy:',accuracy_scorerfm)\n",
    "print('Classification_report',classification_reportrfm)\n",
    "print('Confusion_matrix',confusion_matrixrfm)"
   ]
  },
  {
   "cell_type": "code",
   "execution_count": 42,
   "id": "e2e116ae-7b30-42ce-a994-00fd8d7c87c1",
   "metadata": {},
   "outputs": [
    {
     "name": "stderr",
     "output_type": "stream",
     "text": [
      "C:\\Users\\harsh\\AppData\\Local\\Programs\\Python\\Python312\\Lib\\site-packages\\sklearn\\metrics\\_classification.py:1531: UndefinedMetricWarning: Precision is ill-defined and being set to 0.0 in labels with no predicted samples. Use `zero_division` parameter to control this behavior.\n",
      "  _warn_prf(average, modifier, f\"{metric.capitalize()} is\", len(result))\n",
      "C:\\Users\\harsh\\AppData\\Local\\Programs\\Python\\Python312\\Lib\\site-packages\\sklearn\\metrics\\_classification.py:1531: UndefinedMetricWarning: Precision is ill-defined and being set to 0.0 in labels with no predicted samples. Use `zero_division` parameter to control this behavior.\n",
      "  _warn_prf(average, modifier, f\"{metric.capitalize()} is\", len(result))\n",
      "C:\\Users\\harsh\\AppData\\Local\\Programs\\Python\\Python312\\Lib\\site-packages\\sklearn\\metrics\\_classification.py:1531: UndefinedMetricWarning: Precision is ill-defined and being set to 0.0 in labels with no predicted samples. Use `zero_division` parameter to control this behavior.\n",
      "  _warn_prf(average, modifier, f\"{metric.capitalize()} is\", len(result))\n"
     ]
    },
    {
     "name": "stdout",
     "output_type": "stream",
     "text": [
      "Accuracy: 0.511923838250542\n",
      "Classification Report:\n",
      "                       precision    recall  f1-score   support\n",
      "\n",
      "             anxiety       0.94      0.09      0.17       779\n",
      "             bipolar       1.00      0.01      0.02       580\n",
      "          depression       0.38      0.97      0.55      3100\n",
      "              normal       0.91      0.62      0.74      3327\n",
      "personality disorder       0.00      0.00      0.00       248\n",
      "              stress       1.00      0.01      0.01       557\n",
      "            suicidal       0.81      0.13      0.23      2018\n",
      "\n",
      "            accuracy                           0.51     10609\n",
      "           macro avg       0.72      0.26      0.24     10609\n",
      "        weighted avg       0.73      0.51      0.45     10609\n",
      "\n",
      "Confusion Matrix:\n",
      " [[  73    0  655   50    0    0    1]\n",
      " [   1    5  537   36    0    0    1]\n",
      " [   0    0 3020   39    0    0   41]\n",
      " [   2    0 1246 2061    0    0   18]\n",
      " [   1    0  211   36    0    0    0]\n",
      " [   0    0  533   19    0    4    1]\n",
      " [   1    0 1722   27    0    0  268]]\n"
     ]
    }
   ],
   "source": [
    "#Naiv Bays Model\n",
    "from sklearn.naive_bayes import MultinomialNB\n",
    "model=MultinomialNB()\n",
    "model.fit(x_train,y_train)\n",
    "y_pred=model.predict(x_test)\n",
    "accuracy_scorenbm=accuracy_score(y_test, y_pred)\n",
    "classification_reportnbm=classification_report(y_test, y_pred)\n",
    "confusion_matrixnbm=confusion_matrix(y_test, y_pred)\n",
    "print('Accuracy:',accuracy_scorenbm )\n",
    "print('Classification Report:\\n', classification_reportnbm)\n",
    "print('Confusion Matrix:\\n',confusion_matrixnbm )"
   ]
  },
  {
   "cell_type": "code",
   "execution_count": 44,
   "id": "969c28b1-6999-46e5-81c2-a268af856e9a",
   "metadata": {},
   "outputs": [
    {
     "name": "stdout",
     "output_type": "stream",
     "text": [
      "accuracy 0.7709491940804977\n",
      "classifiction                       precision    recall  f1-score   support\n",
      "\n",
      "             anxiety       0.81      0.81      0.81       779\n",
      "             bipolar       0.86      0.71      0.78       580\n",
      "          depression       0.72      0.73      0.72      3100\n",
      "              normal       0.85      0.95      0.90      3327\n",
      "personality disorder       0.92      0.48      0.63       248\n",
      "              stress       0.72      0.48      0.58       557\n",
      "            suicidal       0.68      0.65      0.66      2018\n",
      "\n",
      "            accuracy                           0.77     10609\n",
      "           macro avg       0.79      0.69      0.73     10609\n",
      "        weighted avg       0.77      0.77      0.77     10609\n",
      "\n",
      "confusion [[ 633   12   50   60    5   16    3]\n",
      " [  18  412   63   61    1   16    9]\n",
      " [  44   28 2267  164    4   24  569]\n",
      " [  19    3   70 3166    0   36   33]\n",
      " [   5    8   57   51  119    5    3]\n",
      " [  56   11  100  106    1  267   16]\n",
      " [   4    6  560  126    0    7 1315]]\n"
     ]
    }
   ],
   "source": [
    "#support vector machine\n",
    "from sklearn.svm import SVC\n",
    "model=SVC(kernl='linear',random_state=42)\n",
    "model.fit(x_train,y_train)\n",
    "y_pred=model.predict(x_test)\n",
    "print('accuracy',accuracy_score(y_test,y_pred))\n",
    "print('classifiction',classification_report(y_test,y_pred))\n",
    "print('confusion',confusion_matrix(y_test,y_pred))"
   ]
  },
  {
   "cell_type": "code",
   "execution_count": 1,
   "id": "3dcdf8f7-0ad0-47bc-b16a-84c9027bffd7",
   "metadata": {},
   "outputs": [
    {
     "name": "stdout",
     "output_type": "stream",
     "text": [
      "{'model': ['Linear Regression', 'Random Forest Classifier', 'Naive Bayes', 'svc'], 'result': [75, 69, 51, 77]}\n",
      "                      model  result\n",
      "0         Linear Regression      75\n",
      "1  Random Forest Classifier      69\n",
      "2               Naive Bayes      51\n",
      "3                       svc      77\n"
     ]
    }
   ],
   "source": [
    "import pandas as pd\n",
    "d={'model':['Linear Regression','Random Forest Classifier','Naive Bayes','svc'],\n",
    "   'result':[75,69,51,77]}\n",
    "print(d)\n",
    "df=pd.DataFrame(d)\n",
    "print(df)"
   ]
  },
  {
   "cell_type": "code",
   "execution_count": 2,
   "id": "4a673557-b3a6-41e0-9d06-871f3506d636",
   "metadata": {},
   "outputs": [
    {
     "data": {
      "text/plain": [
       "[<matplotlib.lines.Line2D at 0x225d89b0>]"
      ]
     },
     "execution_count": 2,
     "metadata": {},
     "output_type": "execute_result"
    },
    {
     "data": {
      "image/png": "[encoded data removed]",
      "text/plain": [
       "<Figure size 640x480 with 1 Axes>"
      ]
     },
     "metadata": {},
     "output_type": "display_data"
    }
   ],
   "source": [
    "from matplotlib import pyplot as plt\n",
    "plt.plot(df['model'],df['result'])"
   ]
  }
 ],
 "metadata": {
  "kernelspec": {
   "display_name": "Python 3 (ipykernel)",
   "language": "python",
   "name": "python3"
  },
  "language_info": {
   "codemirror_mode": {
    "name": "ipython",
    "version": 3
   },
   "file_extension": ".py",
   "mimetype": "text/x-python",
   "name": "python",
   "nbconvert_exporter": "python",
   "pygments_lexer": "ipython3",
   "version": "3.12.2"
  }
 },
 "nbformat": 4,
 "nbformat_minor": 5
}
